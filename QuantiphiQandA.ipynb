{
  "nbformat": 4,
  "nbformat_minor": 0,
  "metadata": {
    "colab": {
      "provenance": [],
      "authorship_tag": "ABX9TyNJsrdopSEIy8pZVhlPqnAc",
      "include_colab_link": true
    },
    "kernelspec": {
      "name": "python3",
      "display_name": "Python 3"
    },
    "language_info": {
      "name": "python"
    }
  },
  "cells": [
    {
      "cell_type": "markdown",
      "metadata": {
        "id": "view-in-github",
        "colab_type": "text"
      },
      "source": [
        "<a href=\"https://colab.research.google.com/github/ashish-tikle/Pannel_PDF_QA/blob/main/QuantiphiQandA.ipynb\" target=\"_parent\"><img src=\"https://colab.research.google.com/assets/colab-badge.svg\" alt=\"Open In Colab\"/></a>"
      ]
    },
    {
      "cell_type": "markdown",
      "source": [
        "Installing Essential Libraries for Transformers, LangChain, Sentence-BERT, ChromaDB, Tiktoken, PyPDF, and Panel."
      ],
      "metadata": {
        "id": "VNJ7esDfer5P"
      }
    },
    {
      "cell_type": "code",
      "execution_count": null,
      "metadata": {
        "id": "m5dP6EYYRM6f"
      },
      "outputs": [],
      "source": [
        "!pip install langchain chromadb tiktoken pypdf panel\n",
        "# transformers\n",
        "# langchain_community\n",
        "# sentence-transformers"
      ]
    },
    {
      "cell_type": "code",
      "source": [
        "!pip install --upgrade --quiet langchain-google-genai"
      ],
      "metadata": {
        "id": "gEpRQwnN8XtV"
      },
      "execution_count": 2,
      "outputs": []
    },
    {
      "cell_type": "code",
      "source": [
        "!pip install -q -U google-generativeai"
      ],
      "metadata": {
        "id": "1ykpT6mm8diJ"
      },
      "execution_count": 3,
      "outputs": []
    },
    {
      "cell_type": "markdown",
      "source": [
        "Implementing Retrieval-based Question Answering with LangChain and Google Generative AI using Transformers"
      ],
      "metadata": {
        "id": "5aHwB6_Ce53t"
      }
    },
    {
      "cell_type": "code",
      "source": [
        "import os\n",
        "# from transformers import AutoModelForSeq2SeqLM, AutoTokenizer\n",
        "from langchain.chains import RetrievalQA\n",
        "# from langchain.document_loaders import TextLoader\n",
        "from langchain.document_loaders import PyPDFLoader\n",
        "# from langchain.indexes import VectorstoreIndexCreator\n",
        "from langchain.text_splitter import CharacterTextSplitter\n",
        "from langchain_google_genai import GoogleGenerativeAI\n",
        "from langchain.embeddings import GooglePalmEmbeddings\n",
        "# from langchain.llms import GooglePalm\n",
        "from langchain.vectorstores import Chroma\n",
        "import panel as pn\n",
        "# import tempfile\n"
      ],
      "metadata": {
        "id": "HZlL8G61SIRT"
      },
      "execution_count": 4,
      "outputs": []
    },
    {
      "cell_type": "markdown",
      "source": [
        "Interactive Text Editor with Custom Styling in a Panel Dashboard"
      ],
      "metadata": {
        "id": "fnntXg9RfJ13"
      }
    },
    {
      "cell_type": "code",
      "source": [
        "pn.extension('texteditor', template=\"bootstrap\", sizing_mode='stretch_width')\n",
        "pn.state.template.param.update(\n",
        "    main_max_width=\"690px\",\n",
        "    header_background=\"#F08080\",\n",
        ")"
      ],
      "metadata": {
        "id": "FaXG8BQNSZur"
      },
      "execution_count": null,
      "outputs": []
    },
    {
      "cell_type": "markdown",
      "source": [
        "Interactive Notebook for Question Answering with Advanced Settings and Google API Integration"
      ],
      "metadata": {
        "id": "d-60ebfJfXps"
      }
    },
    {
      "cell_type": "code",
      "source": [
        "file_input = pn.widgets.FileInput(width=300)\n",
        "\n",
        "google_api_key = pn.widgets.PasswordInput(\n",
        "    value=\"\", placeholder=\"Enter your Google API Key here...\", width=300\n",
        ")\n",
        "\n",
        "prompt = pn.widgets.TextEditor(\n",
        "    value=\"\", placeholder=\"Enter your questions here...\", height=160, toolbar=False\n",
        ")\n",
        "run_button = pn.widgets.Button(name=\"Run!\")\n",
        "\n",
        "select_k = pn.widgets.IntSlider(\n",
        "    name=\"Number of relevant chunks\", start=1, end=5, step=1, value=2\n",
        ")\n",
        "select_chain_type = pn.widgets.RadioButtonGroup(\n",
        "    name='Chain type',\n",
        "    options=['stuff', 'map_reduce', \"refine\", \"map_rerank\"],\n",
        "    value='map_reduce'\n",
        ")\n",
        "\n",
        "widgets = pn.Row(\n",
        "    pn.Column(prompt, run_button, margin=5),\n",
        "    pn.Card(\n",
        "        \"Chain type:\",\n",
        "        pn.Column(select_chain_type, select_k),\n",
        "        title=\"Advanced settings\"\n",
        "    ), width=670\n",
        ")"
      ],
      "metadata": {
        "id": "DkjuYoy0Sfi9"
      },
      "execution_count": 6,
      "outputs": []
    },
    {
      "cell_type": "markdown",
      "source": [
        "Semantic Question Answering with Document Retrieval using Google's Palm Embeddings and Generative AI"
      ],
      "metadata": {
        "id": "v2J18ZbSfqBe"
      }
    },
    {
      "cell_type": "code",
      "source": [
        "def qa(file, query, chain_type, k):\n",
        "    # load document\n",
        "    loader = PyPDFLoader(file)\n",
        "    documents = loader.load()\n",
        "    # split the documents into chunks\n",
        "    text_splitter = CharacterTextSplitter(chunk_size=1000, chunk_overlap=0)\n",
        "    texts = text_splitter.split_documents(documents)\n",
        "    # select which embeddings we want to use\n",
        "    embeddings = GooglePalmEmbeddings()\n",
        "\n",
        "    # create the vectorestore to use as the index\n",
        "    db = Chroma.from_documents(texts, embeddings)\n",
        "    # expose this index in a retriever interface\n",
        "    retriever = db.as_retriever(search_type=\"similarity\", search_kwargs={\"k\": k})\n",
        "    # create a chain to answer questions\n",
        "    qa = RetrievalQA.from_chain_type(\n",
        "        llm=GoogleGenerativeAI(model=\"models/text-bison-001\"),\n",
        "        chain_type=chain_type, retriever=retriever, return_source_documents=True)\n",
        "    result = qa({\"query\": query})\n",
        "    print(result['result'])\n",
        "    return result"
      ],
      "metadata": {
        "id": "w1WsJVABSmI-"
      },
      "execution_count": 7,
      "outputs": []
    },
    {
      "cell_type": "markdown",
      "source": [
        "Interactive Q&A with PDFs: Store Conversations, Cache PDFs, and Display Results Dynamically."
      ],
      "metadata": {
        "id": "ROArb8dFf-UK"
      }
    },
    {
      "cell_type": "code",
      "source": [
        "\n",
        "convos = []  # store all panel objects in a list\n",
        "os.makedirs(\"/.cache\", exist_ok=True)  # Create the directory if it doesn't exist\n",
        "\n",
        "\n",
        "def qa_result(_):\n",
        "  os.environ[\"GOOGLE_API_KEY\"] = google_api_key.value\n",
        "  # save pdf file to a temp file\n",
        "  if file_input.value is not None:\n",
        "    file_input.save(\"/.cache/temp.pdf\")\n",
        "    prompt_text = prompt.value\n",
        "    if prompt_text:\n",
        "      result = qa(file=\"/.cache/temp.pdf\", query=prompt_text, chain_type=select_chain_type.value, k=select_k.value)\n",
        "      convos.extend([\n",
        "                pn.Row(\n",
        "                    pn.panel(\"\\U0001F60A\", width=10),\n",
        "                    prompt_text,\n",
        "                    width=600\n",
        "                ),\n",
        "                pn.Row(\n",
        "                    pn.panel(\"\\U0001F916\", width=10),\n",
        "                    pn.Column(\n",
        "                        result[\"result\"],\n",
        "                        \"Relevant source text:\",\n",
        "                        pn.pane.Markdown('\\n--------------------------------------------------------------------\\n'.join(doc.page_content for doc in result[\"source_documents\"]))\n",
        "                    )\n",
        "                )\n",
        "            ])\n",
        "    return pn.Column(*convos, margin=15, width=575, min_height=400)"
      ],
      "metadata": {
        "id": "lT873D09Ssqe"
      },
      "execution_count": 8,
      "outputs": []
    },
    {
      "cell_type": "markdown",
      "source": [
        "# New Section"
      ],
      "metadata": {
        "id": "2hH4QsfMjEhg"
      }
    },
    {
      "cell_type": "markdown",
      "source": [
        "Interactive QA Dashboard with Loading Indicator."
      ],
      "metadata": {
        "id": "F2Z77JengKoI"
      }
    },
    {
      "cell_type": "code",
      "source": [
        "qa_interactive = pn.panel(\n",
        "    pn.bind(qa_result, run_button),\n",
        "    loading_indicator=True,\n",
        ")"
      ],
      "metadata": {
        "id": "mgIn8rbPS1HX"
      },
      "execution_count": 9,
      "outputs": []
    },
    {
      "cell_type": "markdown",
      "source": [
        "Interactive QA Output Display in a 670px Scrollable WidgetBox"
      ],
      "metadata": {
        "id": "wIM7Gf15gSDf"
      }
    },
    {
      "cell_type": "code",
      "source": [
        "output = pn.WidgetBox('*Output will show up here:*', qa_interactive, width=670, scroll=True)"
      ],
      "metadata": {
        "id": "IA3uzAbZS4MY"
      },
      "execution_count": 10,
      "outputs": []
    },
    {
      "cell_type": "markdown",
      "source": [
        "Interactive PDF Question Answering: Upload, Authenticate, and Query with Google API Key"
      ],
      "metadata": {
        "id": "4EetgVSGgbkD"
      }
    },
    {
      "cell_type": "code",
      "source": [
        "# layout\n",
        "pn.Column(\n",
        "    pn.pane.Markdown(\"\"\"\n",
        "    ## \\U0001F60A! Question Answering with your PDF file\n",
        "\n",
        "    1) Upload a PDF.  2) Enter Google API key. 3) Type a question and click \"Run\"\n",
        "\n",
        "    \"\"\"),\n",
        "    pn.Row(file_input,google_api_key),\n",
        "    output,\n",
        "    widgets\n",
        "\n",
        ").servable()"
      ],
      "metadata": {
        "id": "19ieaJszS9A3"
      },
      "execution_count": null,
      "outputs": []
    },
    {
      "cell_type": "code",
      "source": [],
      "metadata": {
        "id": "D9HEzC_5TASH"
      },
      "execution_count": 11,
      "outputs": []
    }
  ]
}